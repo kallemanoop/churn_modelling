{
  "nbformat": 4,
  "nbformat_minor": 0,
  "metadata": {
    "colab": {
      "provenance": []
    },
    "kernelspec": {
      "name": "python3",
      "display_name": "Python 3"
    },
    "language_info": {
      "name": "python"
    }
  },
  "cells": [
    {
      "cell_type": "markdown",
      "source": [
        "# **Churn Modelling of Promsha Bank**\n",
        "**Goal : Predict whether the new customers will stay or leave for the data given by the manager.**"
      ],
      "metadata": {
        "id": "KT6UY1CB0SyR"
      }
    },
    {
      "cell_type": "markdown",
      "source": [
        "***1. Importing all necessary packages***"
      ],
      "metadata": {
        "id": "rFFFey0Q1OlJ"
      }
    },
    {
      "cell_type": "code",
      "execution_count": 1,
      "metadata": {
        "id": "VpK8jRU20ESG"
      },
      "outputs": [],
      "source": [
        "import tensorflow as tf\n",
        "import pandas as pd\n",
        "from tensorflow.keras.models import Sequential\n",
        "from tensorflow.keras.layers import Dense\n",
        "from tensorflow.keras.optimizers import SGD, Adam, RMSprop\n",
        "from sklearn.model_selection import train_test_split\n",
        "from sklearn.metrics import accuracy_score\n",
        "from sklearn.preprocessing import StandardScaler, OneHotEncoder\n",
        "from sklearn.compose import ColumnTransformer\n",
        "from sklearn.metrics import roc_curve, auc\n",
        "import matplotlib.pyplot as plt\n",
        "from sklearn.metrics import confusion_matrix, ConfusionMatrixDisplay\n",
        "from tensorflow.keras.callbacks import EarlyStopping"
      ]
    },
    {
      "cell_type": "markdown",
      "source": [
        "***2. Data Preprocessing***"
      ],
      "metadata": {
        "id": "yvFQ0kvi1kTs"
      }
    },
    {
      "cell_type": "code",
      "source": [
        "data = pd.read_csv(\"Churn_Modelling.csv\")\n",
        "data = data.drop(['CustomerId', 'Surname'], axis=1)\n",
        "categorical_cols = ['Geography', 'Gender']\n",
        "numerical_cols = [col for col in data.columns if col not in categorical_cols + ['Exited']]\n",
        "A = data.drop('Exited', axis=1)\n",
        "b = data['Exited']"
      ],
      "metadata": {
        "id": "-nZhtz261k11"
      },
      "execution_count": 2,
      "outputs": []
    },
    {
      "cell_type": "markdown",
      "source": [
        "***3. Transforming/Scaling categorical and numerical data using OneHotEncoder and StandardScaler respectively***"
      ],
      "metadata": {
        "id": "S0xdA5u44SHJ"
      }
    },
    {
      "cell_type": "code",
      "source": [
        "numerical_transformer = StandardScaler()\n",
        "categorical_transformer = OneHotEncoder(drop='first', sparse=False)\n",
        "preprocessor = ColumnTransformer(\n",
        "    transformers=[\n",
        "        ('num', numerical_transformer, numerical_cols),\n",
        "        ('cat', categorical_transformer, categorical_cols)\n",
        "    ])"
      ],
      "metadata": {
        "id": "DtbBna4I4Rh7"
      },
      "execution_count": 3,
      "outputs": []
    },
    {
      "cell_type": "markdown",
      "source": [
        "***4. Splitting training and testing data***"
      ],
      "metadata": {
        "id": "Q1DuOTZu5A1p"
      }
    },
    {
      "cell_type": "code",
      "source": [
        "A_train, A_test, b_train, b_test = train_test_split(A, b, test_size=0.3, random_state=42)\n",
        "A_train = preprocessor.fit_transform(A_train)\n",
        "A_test = preprocessor.transform(A_test)"
      ],
      "metadata": {
        "colab": {
          "base_uri": "https://localhost:8080/"
        },
        "id": "s9ytC_1D4-Dh",
        "outputId": "e8fe7c55-3e44-4dd7-d208-7222dd3e6326"
      },
      "execution_count": 4,
      "outputs": [
        {
          "output_type": "stream",
          "name": "stderr",
          "text": [
            "/usr/local/lib/python3.10/dist-packages/sklearn/preprocessing/_encoders.py:868: FutureWarning: `sparse` was renamed to `sparse_output` in version 1.2 and will be removed in 1.4. `sparse_output` is ignored unless you leave `sparse` to its default value.\n",
            "  warnings.warn(\n"
          ]
        }
      ]
    },
    {
      "cell_type": "markdown",
      "source": [
        "***5. Create the model with necessary operations like***\n",
        "```\n",
        "Sequential() ----> Sequentially stacks layers of Tensors for the model/Neural Network.\n",
        "Dense() ----> Shrink the data to specified number of neurons along with an activation function.\n",
        "```\n",
        "\n"
      ],
      "metadata": {
        "id": "GcaHujnB2ssh"
      }
    },
    {
      "cell_type": "code",
      "source": [
        "def create_model(optimizer):\n",
        "    model = Sequential()\n",
        "    model.add(Dense(64, input_shape=(A_train.shape[1],), activation='relu'))\n",
        "    model.add(Dense(32, activation='relu'))\n",
        "    model.add(Dense(1, activation='sigmoid'))\n",
        "\n",
        "    model.compile(optimizer=optimizer, loss='binary_crossentropy', metrics=['accuracy'])\n",
        "    return model"
      ],
      "metadata": {
        "id": "X1ratLU9iPKk"
      },
      "execution_count": 10,
      "outputs": []
    },
    {
      "cell_type": "markdown",
      "source": [
        "***6. Model is compiled through various optimizers such as Stochastic Gradient Descent, Adam Optimiser and RMSprop.***"
      ],
      "metadata": {
        "id": "zPz8EaG_D30I"
      }
    },
    {
      "cell_type": "code",
      "source": [
        "optimizers = [SGD(), Adam(), RMSprop()]\n",
        "for opt in optimizers:\n",
        "    model = create_model(opt)\n",
        "    print(f\"Training model with {str(opt)} optimizer...\")\n",
        "    early_stopping = EarlyStopping(monitor='val_loss', patience=3, restore_best_weights=True)\n",
        "    model.fit(A_train, b_train, epochs=10, batch_size=32, verbose=0)"
      ],
      "metadata": {
        "colab": {
          "base_uri": "https://localhost:8080/"
        },
        "id": "i8VP4vF5D3Te",
        "outputId": "a1f0d8cb-38be-4ae8-96ee-7125314cd9d5"
      },
      "execution_count": 11,
      "outputs": [
        {
          "output_type": "stream",
          "name": "stdout",
          "text": [
            "Training model with <keras.src.optimizers.sgd.SGD object at 0x7b3f5e5fff70> optimizer...\n",
            "Training model with <keras.src.optimizers.adam.Adam object at 0x7b3f4fe1cd00> optimizer...\n",
            "Training model with <keras.src.optimizers.rmsprop.RMSprop object at 0x7b3f4fe5dd50> optimizer...\n"
          ]
        }
      ]
    },
    {
      "cell_type": "markdown",
      "source": [
        "***7. Functions from Sklearn.metrics are used to calculate the Error and Accuracy. Then predict the output using :\n",
        "\n",
        "```\n",
        "import tensorflow as tf\n",
        "model.predict()\n",
        "```\n",
        "\n",
        "***"
      ],
      "metadata": {
        "id": "sEGdtXtdHozy"
      }
    },
    {
      "cell_type": "code",
      "source": [
        "loss, accuracy = model.evaluate(A_test, b_test, verbose=0)\n",
        "print(f\"Evaluation on test set with {str(opt)} optimizer:\")\n",
        "print(f\"Loss: {loss:.4f}, Accuracy: {accuracy*100:.2f}%\")\n",
        "b_pred = model.predict(A_test)\n",
        "b_pred_classes = (b_pred > 0.5).astype(\"int32\")"
      ],
      "metadata": {
        "colab": {
          "base_uri": "https://localhost:8080/"
        },
        "id": "Aahcv0EiHDfh",
        "outputId": "7f04a6d6-be44-42df-e419-b260d0338719"
      },
      "execution_count": 13,
      "outputs": [
        {
          "output_type": "stream",
          "name": "stdout",
          "text": [
            "Evaluation on test set with <keras.src.optimizers.rmsprop.RMSprop object at 0x7b3f4fe5dd50> optimizer:\n",
            "Loss: 0.3454, Accuracy: 86.00%\n",
            "94/94 [==============================] - 0s 2ms/step\n"
          ]
        }
      ]
    },
    {
      "cell_type": "markdown",
      "source": [
        "***8. Creating the confusion matrix of True Values and Predicted Values***\n",
        "\n",
        "\n",
        "```\n",
        "confusion_matrix(b_test, b_pred_classes)\n",
        "```\n",
        "\n"
      ],
      "metadata": {
        "id": "h7sL_82OLKCH"
      }
    },
    {
      "cell_type": "code",
      "source": [
        "cm = confusion_matrix(b_test, b_pred_classes)\n",
        "print(\"\")\n",
        "print(\"Confusion Matrix:\")\n",
        "print(cm)\n",
        "print(\"Number of customers predicted by the model to stay : \",cm[0][0])\n",
        "print(\"Number of customer predicted by the model to churn/exit : \",cm[1][1])\n"
      ],
      "metadata": {
        "colab": {
          "base_uri": "https://localhost:8080/"
        },
        "id": "MQ-F9DeqLJpx",
        "outputId": "654e6935-b250-4063-f9c0-e3ecfcdf4bc0"
      },
      "execution_count": 15,
      "outputs": [
        {
          "output_type": "stream",
          "name": "stdout",
          "text": [
            "\n",
            "Confusion Matrix:\n",
            "[[2288  128]\n",
            " [ 292  292]]\n",
            "Number of customers predicted by the model to stay :  2288\n",
            "Number of customer predicted by the model to churn/exit :  292\n"
          ]
        }
      ]
    },
    {
      "cell_type": "markdown",
      "source": [
        "***9. Visualisation of Confusion Matrix***"
      ],
      "metadata": {
        "id": "R-m4os_YNtlC"
      }
    },
    {
      "cell_type": "code",
      "source": [
        "disp = ConfusionMatrixDisplay(cm, display_labels=['Stay','Churn/Exit'])\n",
        "disp.plot()\n",
        "plt.title('Confusion Matrix')\n",
        "plt.show()"
      ],
      "metadata": {
        "colab": {
          "base_uri": "https://localhost:8080/",
          "height": 472
        },
        "id": "j4PcvKSONuHH",
        "outputId": "f6eb62d0-b665-4cbe-aca3-08d5eaffd612"
      },
      "execution_count": 16,
      "outputs": [
        {
          "output_type": "display_data",
          "data": {
            "text/plain": [
              "<Figure size 640x480 with 2 Axes>"
            ],
            "image/png": "[encoded data removed]"
          },
          "metadata": {}
        }
      ]
    }
  ]
}